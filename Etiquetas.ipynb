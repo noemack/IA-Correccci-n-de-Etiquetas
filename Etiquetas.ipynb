{
 "cells": [
  {
   "cell_type": "code",
   "execution_count": null,
   "metadata": {},
   "outputs": [
    {
     "name": "stdout",
     "output_type": "stream",
     "text": [
      "Texto extraído: GBR-12_\n",
      "Carácter faltante completado automáticamente: 8\n",
      "Texto final corregido: GBR-128\n"
     ]
    }
   ],
   "source": [
    "# Importamos las librerías, si no están instaladas, realizar instalación con pip install en terminal\n",
    "import cv2 # CV, libreria que sirve para procesar imágenes\n",
    "import pytesseract # OCR, sirve para extraer texto de imágenes\n",
    "import pandas as pd\n",
    "from sklearn.feature_extraction.text import CountVectorizer # convierte el texto en una matriz\n",
    "from sklearn.linear_model import LogisticRegression # ML, para predicción\n",
    "import numpy as np\n",
    "\n",
    "# Configuramos Tesseract (aquí colocar la ruta donde se instaló)\n",
    "pytesseract.pytesseract.tesseract_cmd = r'C:\\Program Files\\Tesseract-OCR\\tesseract.exe'\n",
    "\n",
    "# Ingresamos una función para extraer texto usando visión computacional\n",
    "def extraer_texto(imagen_path):\n",
    "    imagen = cv2.imread(\"C:\\Ciencia de Datos\\Python\\Imagenes\\etiqueta_danada.jpg\") # especificar la ruta\n",
    "    gris = cv2.cvtColor(imagen, cv2.COLOR_BGR2GRAY)\n",
    "    texto = pytesseract.image_to_string(gris, config='--psm 6') # para extaer el texto\n",
    "    return texto.strip()\n",
    "\n",
    "# Preparamos el modelo de Machine Learning para predecir caraceters faltantes\n",
    "def entrenar_modelo():\n",
    "    datos = {\n",
    "        \"Etiqueta\": [\"GBR-120\", \"GBR-121\", \"GBR-122\", \"GBR-128\", \"GBR-128\", \"GBR-128\", \"GBR-123\", \"GBR-129\", \"GBR-124\"],\n",
    "        \"Ultimo_Caracter\": [\"0\", \"1\", \"2\", \"8\", \"8\", \"8\", \"3\", \"9\", \"4\"] # datos de entrenamiento correctos\n",
    "    }\n",
    "    df = pd.DataFrame(datos)\n",
    "    # Convertimos las etiquetas en una representación numérica basada en caracteres\n",
    "    vectorizador = CountVectorizer(analyzer='char', ngram_range=(5, 5))\n",
    "    X = vectorizador.fit_transform(df[\"Etiqueta\"])\n",
    "    y = df[\"Ultimo_Caracter\"]\n",
    "    # Utilizamos el modelo ML (regresión logística) para predecir los valores faltantes\n",
    "    modelo = LogisticRegression(max_iter=1000)\n",
    "    modelo.fit(X, y) # entrenamos el modelo\n",
    "    return modelo, vectorizador\n",
    "\n",
    "# Utilizamos una función para completar el texto si falta un carácter usando ML\n",
    "def completar_texto(texto, modelo, vectorizador):\n",
    "    print(f\"Texto extraído: {texto}\") # mostramos el texto detectado\n",
    "    if \"_\" in texto:  # verificamos si hay un carácter faltante, se representa como _\n",
    "        X_prueba = vectorizador.transform([texto]) \n",
    "        prediccion = modelo.predict(X_prueba) # el modelo predice el caracter faltante\n",
    "        texto = texto.replace(\"_\", prediccion[0])  # completamos el carácter faltante\n",
    "        print(f\"Carácter faltante completado automáticamente: {prediccion[0]}\")\n",
    "    return texto\n",
    "\n",
    "# Cargamos y procesamos la imagen\n",
    "imagen_path = \"etiqueta_danada.jpg\"\n",
    "texto_extraido = extraer_texto(imagen_path)\n",
    "\n",
    "# Entrenamos el modelo\n",
    "modelo, vectorizador = entrenar_modelo()\n",
    "\n",
    "# Completamos el texto si falta un carácter\n",
    "texto_final = completar_texto(texto_extraido, modelo, vectorizador)\n",
    "\n",
    "# Mostramos el resultado final\n",
    "print(f\"Texto final corregido: {texto_final}\")"
   ]
  }
 ],
 "metadata": {
  "kernelspec": {
   "display_name": "base",
   "language": "python",
   "name": "python3"
  },
  "language_info": {
   "codemirror_mode": {
    "name": "ipython",
    "version": 3
   },
   "file_extension": ".py",
   "mimetype": "text/x-python",
   "name": "python",
   "nbconvert_exporter": "python",
   "pygments_lexer": "ipython3",
   "version": "3.8.5"
  }
 },
 "nbformat": 4,
 "nbformat_minor": 2
}
